{
 "cells": [
  {
   "cell_type": "code",
   "execution_count": 1,
   "id": "e5167bb2",
   "metadata": {
    "_cell_guid": "b1076dfc-b9ad-4769-8c92-a6c4dae69d19",
    "_uuid": "8f2839f25d086af736a60e9eeb907d3b93b6e0e5",
    "execution": {
     "iopub.execute_input": "2022-09-03T19:57:17.457164Z",
     "iopub.status.busy": "2022-09-03T19:57:17.456535Z",
     "iopub.status.idle": "2022-09-03T19:57:17.477036Z",
     "shell.execute_reply": "2022-09-03T19:57:17.475290Z"
    },
    "papermill": {
     "duration": 0.032819,
     "end_time": "2022-09-03T19:57:17.480610",
     "exception": false,
     "start_time": "2022-09-03T19:57:17.447791",
     "status": "completed"
    },
    "tags": []
   },
   "outputs": [
    {
     "name": "stdout",
     "output_type": "stream",
     "text": [
      "/kaggle/input/feedback-prize-english-language-learning/sample_submission.csv\n",
      "/kaggle/input/feedback-prize-english-language-learning/train.csv\n",
      "/kaggle/input/feedback-prize-english-language-learning/test.csv\n"
     ]
    }
   ],
   "source": [
    "# This Python 3 environment comes with many helpful analytics libraries installed\n",
    "# It is defined by the kaggle/python Docker image: https://github.com/kaggle/docker-python\n",
    "# For example, here's several helpful packages to load\n",
    "\n",
    "import numpy as np # linear algebra\n",
    "import pandas as pd # data processing, CSV file I/O (e.g. pd.read_csv)\n",
    "\n",
    "# Input data files are available in the read-only \"../input/\" directory\n",
    "# For example, running this (by clicking run or pressing Shift+Enter) will list all files under the input directory\n",
    "\n",
    "import os\n",
    "for dirname, _, filenames in os.walk('/kaggle/input'):\n",
    "    for filename in filenames:\n",
    "        print(os.path.join(dirname, filename))\n",
    "\n",
    "# You can write up to 20GB to the current directory (/kaggle/working/) that gets preserved as output when you create a version using \"Save & Run All\" \n",
    "# You can also write temporary files to /kaggle/temp/, but they won't be saved outside of the current session"
   ]
  },
  {
   "cell_type": "code",
   "execution_count": 2,
   "id": "5407cbb7",
   "metadata": {
    "execution": {
     "iopub.execute_input": "2022-09-03T19:57:17.495063Z",
     "iopub.status.busy": "2022-09-03T19:57:17.494567Z",
     "iopub.status.idle": "2022-09-03T19:57:19.692640Z",
     "shell.execute_reply": "2022-09-03T19:57:19.691414Z"
    },
    "papermill": {
     "duration": 2.2083,
     "end_time": "2022-09-03T19:57:19.695470",
     "exception": false,
     "start_time": "2022-09-03T19:57:17.487170",
     "status": "completed"
    },
    "tags": []
   },
   "outputs": [
    {
     "data": {
      "text/html": [
       "<style type='text/css'>\n",
       ".datatable table.frame { margin-bottom: 0; }\n",
       ".datatable table.frame thead { border-bottom: none; }\n",
       ".datatable table.frame tr.coltypes td {  color: #FFFFFF;  line-height: 6px;  padding: 0 0.5em;}\n",
       ".datatable .bool    { background: #DDDD99; }\n",
       ".datatable .object  { background: #565656; }\n",
       ".datatable .int     { background: #5D9E5D; }\n",
       ".datatable .float   { background: #4040CC; }\n",
       ".datatable .str     { background: #CC4040; }\n",
       ".datatable .time    { background: #40CC40; }\n",
       ".datatable .row_index {  background: var(--jp-border-color3);  border-right: 1px solid var(--jp-border-color0);  color: var(--jp-ui-font-color3);  font-size: 9px;}\n",
       ".datatable .frame tbody td { text-align: left; }\n",
       ".datatable .frame tr.coltypes .row_index {  background: var(--jp-border-color0);}\n",
       ".datatable th:nth-child(2) { padding-left: 12px; }\n",
       ".datatable .hellipsis {  color: var(--jp-cell-editor-border-color);}\n",
       ".datatable .vellipsis {  background: var(--jp-layout-color0);  color: var(--jp-cell-editor-border-color);}\n",
       ".datatable .na {  color: var(--jp-cell-editor-border-color);  font-size: 80%;}\n",
       ".datatable .sp {  opacity: 0.25;}\n",
       ".datatable .footer { font-size: 9px; }\n",
       ".datatable .frame_dimensions {  background: var(--jp-border-color3);  border-top: 1px solid var(--jp-border-color0);  color: var(--jp-ui-font-color3);  display: inline-block;  opacity: 0.6;  padding: 1px 10px 1px 5px;}\n",
       "</style>\n"
      ],
      "text/plain": [
       "<IPython.core.display.HTML object>"
      ]
     },
     "metadata": {},
     "output_type": "display_data"
    }
   ],
   "source": [
    "import numpy as np\n",
    "import pandas as pd\n",
    "from tqdm import tqdm\n",
    "\n",
    "from lightgbm import LGBMRegressor\n",
    "from sklearn import model_selection\n",
    "from sklearn import metrics"
   ]
  },
  {
   "cell_type": "code",
   "execution_count": 3,
   "id": "801955d2",
   "metadata": {
    "execution": {
     "iopub.execute_input": "2022-09-03T19:57:19.709852Z",
     "iopub.status.busy": "2022-09-03T19:57:19.708691Z",
     "iopub.status.idle": "2022-09-03T19:57:19.924894Z",
     "shell.execute_reply": "2022-09-03T19:57:19.923687Z"
    },
    "papermill": {
     "duration": 0.226122,
     "end_time": "2022-09-03T19:57:19.927642",
     "exception": false,
     "start_time": "2022-09-03T19:57:19.701520",
     "status": "completed"
    },
    "tags": []
   },
   "outputs": [],
   "source": [
    "train = pd.read_csv('../input/feedback-prize-english-language-learning/train.csv')\n",
    "test = pd.read_csv('../input/feedback-prize-english-language-learning/test.csv')\n",
    "sample = pd.read_csv('../input/feedback-prize-english-language-learning/sample_submission.csv')"
   ]
  },
  {
   "cell_type": "code",
   "execution_count": 4,
   "id": "4b7112d0",
   "metadata": {
    "execution": {
     "iopub.execute_input": "2022-09-03T19:57:19.940874Z",
     "iopub.status.busy": "2022-09-03T19:57:19.940318Z",
     "iopub.status.idle": "2022-09-03T19:57:19.965619Z",
     "shell.execute_reply": "2022-09-03T19:57:19.964354Z"
    },
    "papermill": {
     "duration": 0.034919,
     "end_time": "2022-09-03T19:57:19.968471",
     "exception": false,
     "start_time": "2022-09-03T19:57:19.933552",
     "status": "completed"
    },
    "tags": []
   },
   "outputs": [
    {
     "data": {
      "text/html": [
       "<div>\n",
       "<style scoped>\n",
       "    .dataframe tbody tr th:only-of-type {\n",
       "        vertical-align: middle;\n",
       "    }\n",
       "\n",
       "    .dataframe tbody tr th {\n",
       "        vertical-align: top;\n",
       "    }\n",
       "\n",
       "    .dataframe thead th {\n",
       "        text-align: right;\n",
       "    }\n",
       "</style>\n",
       "<table border=\"1\" class=\"dataframe\">\n",
       "  <thead>\n",
       "    <tr style=\"text-align: right;\">\n",
       "      <th></th>\n",
       "      <th>text_id</th>\n",
       "      <th>full_text</th>\n",
       "      <th>cohesion</th>\n",
       "      <th>syntax</th>\n",
       "      <th>vocabulary</th>\n",
       "      <th>phraseology</th>\n",
       "      <th>grammar</th>\n",
       "      <th>conventions</th>\n",
       "    </tr>\n",
       "  </thead>\n",
       "  <tbody>\n",
       "    <tr>\n",
       "      <th>0</th>\n",
       "      <td>0016926B079C</td>\n",
       "      <td>I think that students would benefit from learn...</td>\n",
       "      <td>3.5</td>\n",
       "      <td>3.5</td>\n",
       "      <td>3.0</td>\n",
       "      <td>3.0</td>\n",
       "      <td>4.0</td>\n",
       "      <td>3.0</td>\n",
       "    </tr>\n",
       "    <tr>\n",
       "      <th>1</th>\n",
       "      <td>0022683E9EA5</td>\n",
       "      <td>When a problem is a change you have to let it ...</td>\n",
       "      <td>2.5</td>\n",
       "      <td>2.5</td>\n",
       "      <td>3.0</td>\n",
       "      <td>2.0</td>\n",
       "      <td>2.0</td>\n",
       "      <td>2.5</td>\n",
       "    </tr>\n",
       "    <tr>\n",
       "      <th>2</th>\n",
       "      <td>00299B378633</td>\n",
       "      <td>Dear, Principal\\n\\nIf u change the school poli...</td>\n",
       "      <td>3.0</td>\n",
       "      <td>3.5</td>\n",
       "      <td>3.0</td>\n",
       "      <td>3.0</td>\n",
       "      <td>3.0</td>\n",
       "      <td>2.5</td>\n",
       "    </tr>\n",
       "    <tr>\n",
       "      <th>3</th>\n",
       "      <td>003885A45F42</td>\n",
       "      <td>The best time in life is when you become yours...</td>\n",
       "      <td>4.5</td>\n",
       "      <td>4.5</td>\n",
       "      <td>4.5</td>\n",
       "      <td>4.5</td>\n",
       "      <td>4.0</td>\n",
       "      <td>5.0</td>\n",
       "    </tr>\n",
       "    <tr>\n",
       "      <th>4</th>\n",
       "      <td>0049B1DF5CCC</td>\n",
       "      <td>Small act of kindness can impact in other peop...</td>\n",
       "      <td>2.5</td>\n",
       "      <td>3.0</td>\n",
       "      <td>3.0</td>\n",
       "      <td>3.0</td>\n",
       "      <td>2.5</td>\n",
       "      <td>2.5</td>\n",
       "    </tr>\n",
       "  </tbody>\n",
       "</table>\n",
       "</div>"
      ],
      "text/plain": [
       "        text_id                                          full_text  cohesion  \\\n",
       "0  0016926B079C  I think that students would benefit from learn...       3.5   \n",
       "1  0022683E9EA5  When a problem is a change you have to let it ...       2.5   \n",
       "2  00299B378633  Dear, Principal\\n\\nIf u change the school poli...       3.0   \n",
       "3  003885A45F42  The best time in life is when you become yours...       4.5   \n",
       "4  0049B1DF5CCC  Small act of kindness can impact in other peop...       2.5   \n",
       "\n",
       "   syntax  vocabulary  phraseology  grammar  conventions  \n",
       "0     3.5         3.0          3.0      4.0          3.0  \n",
       "1     2.5         3.0          2.0      2.0          2.5  \n",
       "2     3.5         3.0          3.0      3.0          2.5  \n",
       "3     4.5         4.5          4.5      4.0          5.0  \n",
       "4     3.0         3.0          3.0      2.5          2.5  "
      ]
     },
     "execution_count": 4,
     "metadata": {},
     "output_type": "execute_result"
    }
   ],
   "source": [
    "train.head()"
   ]
  },
  {
   "cell_type": "code",
   "execution_count": 5,
   "id": "e16f90a9",
   "metadata": {
    "execution": {
     "iopub.execute_input": "2022-09-03T19:57:19.983557Z",
     "iopub.status.busy": "2022-09-03T19:57:19.981985Z",
     "iopub.status.idle": "2022-09-03T19:57:19.987959Z",
     "shell.execute_reply": "2022-09-03T19:57:19.986855Z"
    },
    "papermill": {
     "duration": 0.015833,
     "end_time": "2022-09-03T19:57:19.990395",
     "exception": false,
     "start_time": "2022-09-03T19:57:19.974562",
     "status": "completed"
    },
    "tags": []
   },
   "outputs": [],
   "source": [
    "target_col = ['cohesion', 'syntax', 'vocabulary', 'phraseology', 'grammar', 'conventions']"
   ]
  },
  {
   "cell_type": "code",
   "execution_count": 6,
   "id": "e947002d",
   "metadata": {
    "execution": {
     "iopub.execute_input": "2022-09-03T19:57:20.004105Z",
     "iopub.status.busy": "2022-09-03T19:57:20.003701Z",
     "iopub.status.idle": "2022-09-03T19:57:21.187957Z",
     "shell.execute_reply": "2022-09-03T19:57:21.186461Z"
    },
    "papermill": {
     "duration": 1.194422,
     "end_time": "2022-09-03T19:57:21.190784",
     "exception": false,
     "start_time": "2022-09-03T19:57:19.996362",
     "status": "completed"
    },
    "tags": []
   },
   "outputs": [
    {
     "data": {
      "text/plain": [
       "TfidfVectorizer(max_features=5000, sublinear_tf=True)"
      ]
     },
     "execution_count": 6,
     "metadata": {},
     "output_type": "execute_result"
    }
   ],
   "source": [
    "from sklearn.feature_extraction.text import TfidfVectorizer\n",
    "\n",
    "vec = TfidfVectorizer(max_features=5000,smooth_idf=True, sublinear_tf=True) \n",
    "vec.fit(raw_documents=train.full_text)"
   ]
  },
  {
   "cell_type": "code",
   "execution_count": 7,
   "id": "260508f2",
   "metadata": {
    "execution": {
     "iopub.execute_input": "2022-09-03T19:57:21.205085Z",
     "iopub.status.busy": "2022-09-03T19:57:21.204204Z",
     "iopub.status.idle": "2022-09-03T19:57:25.639310Z",
     "shell.execute_reply": "2022-09-03T19:57:25.638145Z"
    },
    "papermill": {
     "duration": 4.445513,
     "end_time": "2022-09-03T19:57:25.642456",
     "exception": false,
     "start_time": "2022-09-03T19:57:21.196943",
     "status": "completed"
    },
    "tags": []
   },
   "outputs": [],
   "source": [
    "def extract_vectors(x):\n",
    "    vecs = vec.transform(x)\n",
    "    return vecs.toarray().flatten()\n",
    "\n",
    "train['vecs'] = train.full_text.apply(lambda x: extract_vectors([x]))"
   ]
  },
  {
   "cell_type": "code",
   "execution_count": 8,
   "id": "841c45d8",
   "metadata": {
    "execution": {
     "iopub.execute_input": "2022-09-03T19:57:25.657037Z",
     "iopub.status.busy": "2022-09-03T19:57:25.656059Z",
     "iopub.status.idle": "2022-09-03T19:57:25.680535Z",
     "shell.execute_reply": "2022-09-03T19:57:25.679294Z"
    },
    "papermill": {
     "duration": 0.034294,
     "end_time": "2022-09-03T19:57:25.682946",
     "exception": false,
     "start_time": "2022-09-03T19:57:25.648652",
     "status": "completed"
    },
    "tags": []
   },
   "outputs": [
    {
     "data": {
      "text/html": [
       "<div>\n",
       "<style scoped>\n",
       "    .dataframe tbody tr th:only-of-type {\n",
       "        vertical-align: middle;\n",
       "    }\n",
       "\n",
       "    .dataframe tbody tr th {\n",
       "        vertical-align: top;\n",
       "    }\n",
       "\n",
       "    .dataframe thead th {\n",
       "        text-align: right;\n",
       "    }\n",
       "</style>\n",
       "<table border=\"1\" class=\"dataframe\">\n",
       "  <thead>\n",
       "    <tr style=\"text-align: right;\">\n",
       "      <th></th>\n",
       "      <th>text_id</th>\n",
       "      <th>full_text</th>\n",
       "      <th>cohesion</th>\n",
       "      <th>syntax</th>\n",
       "      <th>vocabulary</th>\n",
       "      <th>phraseology</th>\n",
       "      <th>grammar</th>\n",
       "      <th>conventions</th>\n",
       "      <th>vecs</th>\n",
       "    </tr>\n",
       "  </thead>\n",
       "  <tbody>\n",
       "    <tr>\n",
       "      <th>0</th>\n",
       "      <td>0016926B079C</td>\n",
       "      <td>I think that students would benefit from learn...</td>\n",
       "      <td>3.5</td>\n",
       "      <td>3.5</td>\n",
       "      <td>3.0</td>\n",
       "      <td>3.0</td>\n",
       "      <td>4.0</td>\n",
       "      <td>3.0</td>\n",
       "      <td>[0.0, 0.0, 0.0, 0.0, 0.0, 0.0, 0.0, 0.0, 0.0, ...</td>\n",
       "    </tr>\n",
       "    <tr>\n",
       "      <th>1</th>\n",
       "      <td>0022683E9EA5</td>\n",
       "      <td>When a problem is a change you have to let it ...</td>\n",
       "      <td>2.5</td>\n",
       "      <td>2.5</td>\n",
       "      <td>3.0</td>\n",
       "      <td>2.0</td>\n",
       "      <td>2.0</td>\n",
       "      <td>2.5</td>\n",
       "      <td>[0.0, 0.0, 0.0, 0.0, 0.0, 0.0, 0.0, 0.0, 0.0, ...</td>\n",
       "    </tr>\n",
       "    <tr>\n",
       "      <th>2</th>\n",
       "      <td>00299B378633</td>\n",
       "      <td>Dear, Principal\\n\\nIf u change the school poli...</td>\n",
       "      <td>3.0</td>\n",
       "      <td>3.5</td>\n",
       "      <td>3.0</td>\n",
       "      <td>3.0</td>\n",
       "      <td>3.0</td>\n",
       "      <td>2.5</td>\n",
       "      <td>[0.0, 0.0, 0.0, 0.0, 0.0, 0.0, 0.0, 0.0, 0.0, ...</td>\n",
       "    </tr>\n",
       "    <tr>\n",
       "      <th>3</th>\n",
       "      <td>003885A45F42</td>\n",
       "      <td>The best time in life is when you become yours...</td>\n",
       "      <td>4.5</td>\n",
       "      <td>4.5</td>\n",
       "      <td>4.5</td>\n",
       "      <td>4.5</td>\n",
       "      <td>4.0</td>\n",
       "      <td>5.0</td>\n",
       "      <td>[0.0, 0.0, 0.0, 0.0, 0.0, 0.0, 0.0, 0.0, 0.0, ...</td>\n",
       "    </tr>\n",
       "    <tr>\n",
       "      <th>4</th>\n",
       "      <td>0049B1DF5CCC</td>\n",
       "      <td>Small act of kindness can impact in other peop...</td>\n",
       "      <td>2.5</td>\n",
       "      <td>3.0</td>\n",
       "      <td>3.0</td>\n",
       "      <td>3.0</td>\n",
       "      <td>2.5</td>\n",
       "      <td>2.5</td>\n",
       "      <td>[0.0, 0.0, 0.0, 0.0, 0.0, 0.0, 0.0, 0.0, 0.0, ...</td>\n",
       "    </tr>\n",
       "  </tbody>\n",
       "</table>\n",
       "</div>"
      ],
      "text/plain": [
       "        text_id                                          full_text  cohesion  \\\n",
       "0  0016926B079C  I think that students would benefit from learn...       3.5   \n",
       "1  0022683E9EA5  When a problem is a change you have to let it ...       2.5   \n",
       "2  00299B378633  Dear, Principal\\n\\nIf u change the school poli...       3.0   \n",
       "3  003885A45F42  The best time in life is when you become yours...       4.5   \n",
       "4  0049B1DF5CCC  Small act of kindness can impact in other peop...       2.5   \n",
       "\n",
       "   syntax  vocabulary  phraseology  grammar  conventions  \\\n",
       "0     3.5         3.0          3.0      4.0          3.0   \n",
       "1     2.5         3.0          2.0      2.0          2.5   \n",
       "2     3.5         3.0          3.0      3.0          2.5   \n",
       "3     4.5         4.5          4.5      4.0          5.0   \n",
       "4     3.0         3.0          3.0      2.5          2.5   \n",
       "\n",
       "                                                vecs  \n",
       "0  [0.0, 0.0, 0.0, 0.0, 0.0, 0.0, 0.0, 0.0, 0.0, ...  \n",
       "1  [0.0, 0.0, 0.0, 0.0, 0.0, 0.0, 0.0, 0.0, 0.0, ...  \n",
       "2  [0.0, 0.0, 0.0, 0.0, 0.0, 0.0, 0.0, 0.0, 0.0, ...  \n",
       "3  [0.0, 0.0, 0.0, 0.0, 0.0, 0.0, 0.0, 0.0, 0.0, ...  \n",
       "4  [0.0, 0.0, 0.0, 0.0, 0.0, 0.0, 0.0, 0.0, 0.0, ...  "
      ]
     },
     "execution_count": 8,
     "metadata": {},
     "output_type": "execute_result"
    }
   ],
   "source": [
    "train.head()"
   ]
  },
  {
   "cell_type": "code",
   "execution_count": 9,
   "id": "faa380b5",
   "metadata": {
    "execution": {
     "iopub.execute_input": "2022-09-03T19:57:25.697249Z",
     "iopub.status.busy": "2022-09-03T19:57:25.696830Z",
     "iopub.status.idle": "2022-09-03T19:57:25.722443Z",
     "shell.execute_reply": "2022-09-03T19:57:25.720696Z"
    },
    "papermill": {
     "duration": 0.036621,
     "end_time": "2022-09-03T19:57:25.725865",
     "exception": false,
     "start_time": "2022-09-03T19:57:25.689244",
     "status": "completed"
    },
    "tags": []
   },
   "outputs": [
    {
     "name": "stdout",
     "output_type": "stream",
     "text": [
      "<class 'pandas.core.frame.DataFrame'>\n",
      "RangeIndex: 3911 entries, 0 to 3910\n",
      "Data columns (total 9 columns):\n",
      " #   Column       Non-Null Count  Dtype  \n",
      "---  ------       --------------  -----  \n",
      " 0   text_id      3911 non-null   object \n",
      " 1   full_text    3911 non-null   object \n",
      " 2   cohesion     3911 non-null   float64\n",
      " 3   syntax       3911 non-null   float64\n",
      " 4   vocabulary   3911 non-null   float64\n",
      " 5   phraseology  3911 non-null   float64\n",
      " 6   grammar      3911 non-null   float64\n",
      " 7   conventions  3911 non-null   float64\n",
      " 8   vecs         3911 non-null   object \n",
      "dtypes: float64(6), object(3)\n",
      "memory usage: 275.1+ KB\n"
     ]
    }
   ],
   "source": [
    "train.info()"
   ]
  },
  {
   "cell_type": "code",
   "execution_count": 10,
   "id": "66c7b359",
   "metadata": {
    "execution": {
     "iopub.execute_input": "2022-09-03T19:57:25.741633Z",
     "iopub.status.busy": "2022-09-03T19:57:25.741211Z",
     "iopub.status.idle": "2022-09-03T19:57:28.635864Z",
     "shell.execute_reply": "2022-09-03T19:57:28.634273Z"
    },
    "papermill": {
     "duration": 2.90518,
     "end_time": "2022-09-03T19:57:28.638685",
     "exception": false,
     "start_time": "2022-09-03T19:57:25.733505",
     "status": "completed"
    },
    "tags": []
   },
   "outputs": [
    {
     "name": "stderr",
     "output_type": "stream",
     "text": [
      "100%|██████████| 3911/3911 [00:02<00:00, 1392.48it/s]\n"
     ]
    }
   ],
   "source": [
    "feature_set = []\n",
    "for i, row in tqdm(train.iterrows(), total=len(train)):\n",
    "    vecs = row['vecs']\n",
    "    vals = row[target_col].astype(float)\n",
    "    features = np.hstack([vecs, vals]).flatten()\n",
    "    feature_set.append(features)\n",
    "feature_set = np.array(feature_set)"
   ]
  },
  {
   "cell_type": "code",
   "execution_count": 11,
   "id": "7c477bb7",
   "metadata": {
    "execution": {
     "iopub.execute_input": "2022-09-03T19:57:28.657977Z",
     "iopub.status.busy": "2022-09-03T19:57:28.657539Z",
     "iopub.status.idle": "2022-09-03T19:57:28.664099Z",
     "shell.execute_reply": "2022-09-03T19:57:28.662875Z"
    },
    "papermill": {
     "duration": 0.019337,
     "end_time": "2022-09-03T19:57:28.666445",
     "exception": false,
     "start_time": "2022-09-03T19:57:28.647108",
     "status": "completed"
    },
    "tags": []
   },
   "outputs": [],
   "source": [
    "cohesion_train = feature_set[:, -6]\n",
    "syntax_train = feature_set[:, -5]\n",
    "vocabulary_train = feature_set[:, -4]\n",
    "phraseology_train = feature_set[:, -3]\n",
    "grammar_train = feature_set[:, -2]\n",
    "conventions_train = feature_set[:, -1]\n",
    "\n",
    "X = feature_set[:, :-6]"
   ]
  },
  {
   "cell_type": "code",
   "execution_count": 12,
   "id": "3687d7e8",
   "metadata": {
    "execution": {
     "iopub.execute_input": "2022-09-03T19:57:28.685538Z",
     "iopub.status.busy": "2022-09-03T19:57:28.684488Z",
     "iopub.status.idle": "2022-09-03T19:57:28.692035Z",
     "shell.execute_reply": "2022-09-03T19:57:28.690820Z"
    },
    "papermill": {
     "duration": 0.019724,
     "end_time": "2022-09-03T19:57:28.694666",
     "exception": false,
     "start_time": "2022-09-03T19:57:28.674942",
     "status": "completed"
    },
    "tags": []
   },
   "outputs": [],
   "source": [
    "cohesion_model = LGBMRegressor(n_estimators=200, max_depth=5, learning_rate=0.1)\n",
    "syntax_model = LGBMRegressor(n_estimators=200, max_depth=5, learning_rate=0.1)\n",
    "vocabulary_model = LGBMRegressor(n_estimators=200, max_depth=5, learning_rate=0.1)\n",
    "phraseology_model = LGBMRegressor(n_estimators=200, max_depth=5, learning_rate=0.1)\n",
    "grammar_model = LGBMRegressor(n_estimators=200, max_depth=5, learning_rate=0.1)\n",
    "conventions_model = LGBMRegressor(n_estimators=200, max_depth=5, learning_rate=0.1)"
   ]
  },
  {
   "cell_type": "code",
   "execution_count": 13,
   "id": "102a0a9f",
   "metadata": {
    "execution": {
     "iopub.execute_input": "2022-09-03T19:57:28.714579Z",
     "iopub.status.busy": "2022-09-03T19:57:28.713276Z",
     "iopub.status.idle": "2022-09-03T19:58:47.787320Z",
     "shell.execute_reply": "2022-09-03T19:58:47.786436Z"
    },
    "papermill": {
     "duration": 79.086205,
     "end_time": "2022-09-03T19:58:47.789936",
     "exception": false,
     "start_time": "2022-09-03T19:57:28.703731",
     "status": "completed"
    },
    "tags": []
   },
   "outputs": [
    {
     "name": "stdout",
     "output_type": "stream",
     "text": [
      "Validating on cohesion\n",
      "Fold 0 ==> Train accuracy: 0.2811 | Validation accuracy: 0.5536\n",
      "Fold 1 ==> Train accuracy: 0.2988 | Validation accuracy: 0.5705\n",
      "Fold 2 ==> Train accuracy: 0.2936 | Validation accuracy: 0.5482\n",
      "Fold 3 ==> Train accuracy: 0.2907 | Validation accuracy: 0.5804\n",
      "Fold 4 ==> Train accuracy: 0.2857 | Validation accuracy: 0.5623\n",
      "END. Training performance: 0.2899 | Validation performance: 0.5630\n",
      "\n",
      "Validating on syntax\n",
      "Fold 0 ==> Train accuracy: 0.2737 | Validation accuracy: 0.5590\n",
      "Fold 1 ==> Train accuracy: 0.2873 | Validation accuracy: 0.5516\n",
      "Fold 2 ==> Train accuracy: 0.2754 | Validation accuracy: 0.5451\n",
      "Fold 3 ==> Train accuracy: 0.2795 | Validation accuracy: 0.5453\n",
      "Fold 4 ==> Train accuracy: 0.2876 | Validation accuracy: 0.5277\n",
      "END. Training performance: 0.2807 | Validation performance: 0.5458\n",
      "\n",
      "Validating on vocabulary\n",
      "Fold 0 ==> Train accuracy: 0.2450 | Validation accuracy: 0.4878\n",
      "Fold 1 ==> Train accuracy: 0.2542 | Validation accuracy: 0.4976\n",
      "Fold 2 ==> Train accuracy: 0.2582 | Validation accuracy: 0.4716\n",
      "Fold 3 ==> Train accuracy: 0.2501 | Validation accuracy: 0.5020\n",
      "Fold 4 ==> Train accuracy: 0.2558 | Validation accuracy: 0.4669\n",
      "END. Training performance: 0.2527 | Validation performance: 0.4852\n",
      "\n",
      "Validating on phraseology\n",
      "Fold 0 ==> Train accuracy: 0.2749 | Validation accuracy: 0.5519\n",
      "Fold 1 ==> Train accuracy: 0.2786 | Validation accuracy: 0.5389\n",
      "Fold 2 ==> Train accuracy: 0.2755 | Validation accuracy: 0.5311\n",
      "Fold 3 ==> Train accuracy: 0.2810 | Validation accuracy: 0.5678\n",
      "Fold 4 ==> Train accuracy: 0.2842 | Validation accuracy: 0.5353\n",
      "END. Training performance: 0.2788 | Validation performance: 0.5450\n",
      "\n",
      "Validating on grammar\n",
      "Fold 0 ==> Train accuracy: 0.3095 | Validation accuracy: 0.5985\n",
      "Fold 1 ==> Train accuracy: 0.3086 | Validation accuracy: 0.5880\n",
      "Fold 2 ==> Train accuracy: 0.3051 | Validation accuracy: 0.5990\n",
      "Fold 3 ==> Train accuracy: 0.3048 | Validation accuracy: 0.6024\n",
      "Fold 4 ==> Train accuracy: 0.3105 | Validation accuracy: 0.5825\n",
      "END. Training performance: 0.3077 | Validation performance: 0.5941\n",
      "\n",
      "Validating on conventions\n",
      "Fold 0 ==> Train accuracy: 0.3071 | Validation accuracy: 0.5677\n",
      "Fold 1 ==> Train accuracy: 0.3079 | Validation accuracy: 0.5735\n",
      "Fold 2 ==> Train accuracy: 0.3069 | Validation accuracy: 0.5665\n",
      "Fold 3 ==> Train accuracy: 0.3110 | Validation accuracy: 0.6086\n",
      "Fold 4 ==> Train accuracy: 0.3154 | Validation accuracy: 0.5596\n",
      "END. Training performance: 0.3097 | Validation performance: 0.5752\n",
      "\n"
     ]
    }
   ],
   "source": [
    "performances_container = []\n",
    "\n",
    "\n",
    "cv_strategy = model_selection.KFold(n_splits=5, shuffle=True, random_state=42)\n",
    "\n",
    "performances = {}\n",
    "\n",
    "for var in [(\"cohesion\", cohesion_train), (\"syntax\", syntax_train), (\"vocabulary\", vocabulary_train), \n",
    "            (\"phraseology\", phraseology_train), (\"grammar\", grammar_train), (\"conventions\", conventions_train)]:\n",
    "    print(f'Validating on {var[0]}')\n",
    "    fold = 0\n",
    "    train_scores = []\n",
    "    val_scores = []\n",
    "    \n",
    "    n_estimators = 200\n",
    "    max_depth = 5\n",
    "    learning_rate = 0.1\n",
    "    \n",
    "    for train_idx, val_idx in cv_strategy.split(X, var[1]):\n",
    "\n",
    "        X_train = X[train_idx]\n",
    "        y_train = var[1][train_idx]\n",
    "\n",
    "        X_val = X[val_idx]\n",
    "        y_val = var[1][val_idx]\n",
    "\n",
    "        model = LGBMRegressor(n_estimators=n_estimators, max_depth=max_depth, learning_rate=learning_rate)\n",
    "        model.fit(X_train, y_train)\n",
    "\n",
    "        train_preds = model.predict(X_train)\n",
    "        val_preds = model.predict(X_val)\n",
    "\n",
    "        train_score = np.sqrt(metrics.mean_squared_error(y_train, train_preds))\n",
    "        val_score = np.sqrt(metrics.mean_squared_error(y_val, val_preds))\n",
    "\n",
    "        train_scores.append(train_score)\n",
    "        val_scores.append(val_score)\n",
    "\n",
    "        print(f\"Fold {fold} ==> Train accuracy: {train_score:0.4f} | Validation accuracy: {val_score:0.4f}\")\n",
    "        fold += 1\n",
    "\n",
    "    training_performance = np.mean(train_scores)\n",
    "    val_performance = np.mean(val_scores)\n",
    "    performances = {\"var\": var[0], \"training_performance\": training_performance, \"val_performance\": val_performance, \"n_estimators\": n_estimators, \"max_depth\": max_depth, \"learning_rate\": learning_rate}\n",
    "    performances_container.append(performances)\n",
    "    print(f\"END. Training performance: {training_performance:0.4f} | Validation performance: {val_performance:0.4f}\\n\")"
   ]
  },
  {
   "cell_type": "code",
   "execution_count": 14,
   "id": "1e44eef4",
   "metadata": {
    "execution": {
     "iopub.execute_input": "2022-09-03T19:58:47.813972Z",
     "iopub.status.busy": "2022-09-03T19:58:47.813525Z",
     "iopub.status.idle": "2022-09-03T19:59:07.344839Z",
     "shell.execute_reply": "2022-09-03T19:59:07.343789Z"
    },
    "papermill": {
     "duration": 19.545742,
     "end_time": "2022-09-03T19:59:07.347920",
     "exception": false,
     "start_time": "2022-09-03T19:58:47.802178",
     "status": "completed"
    },
    "tags": []
   },
   "outputs": [
    {
     "data": {
      "text/plain": [
       "LGBMRegressor(max_depth=5, n_estimators=200)"
      ]
     },
     "execution_count": 14,
     "metadata": {},
     "output_type": "execute_result"
    }
   ],
   "source": [
    "cohesion_model.fit(X, cohesion_train)\n",
    "syntax_model.fit(X, syntax_train)\n",
    "vocabulary_model.fit(X, vocabulary_train)\n",
    "phraseology_model.fit(X, phraseology_train)\n",
    "grammar_model.fit(X, grammar_train)\n",
    "conventions_model.fit(X, conventions_train)"
   ]
  },
  {
   "cell_type": "code",
   "execution_count": 15,
   "id": "24a429b0",
   "metadata": {
    "execution": {
     "iopub.execute_input": "2022-09-03T19:59:07.371435Z",
     "iopub.status.busy": "2022-09-03T19:59:07.371011Z",
     "iopub.status.idle": "2022-09-03T19:59:07.383568Z",
     "shell.execute_reply": "2022-09-03T19:59:07.382118Z"
    },
    "papermill": {
     "duration": 0.026932,
     "end_time": "2022-09-03T19:59:07.386440",
     "exception": false,
     "start_time": "2022-09-03T19:59:07.359508",
     "status": "completed"
    },
    "tags": []
   },
   "outputs": [],
   "source": [
    "test['vecs'] = test.full_text.apply(lambda x: extract_vectors([x]))"
   ]
  },
  {
   "cell_type": "code",
   "execution_count": 16,
   "id": "993cf1ac",
   "metadata": {
    "execution": {
     "iopub.execute_input": "2022-09-03T19:59:07.408601Z",
     "iopub.status.busy": "2022-09-03T19:59:07.408157Z",
     "iopub.status.idle": "2022-09-03T19:59:07.420678Z",
     "shell.execute_reply": "2022-09-03T19:59:07.419392Z"
    },
    "papermill": {
     "duration": 0.027321,
     "end_time": "2022-09-03T19:59:07.424003",
     "exception": false,
     "start_time": "2022-09-03T19:59:07.396682",
     "status": "completed"
    },
    "tags": []
   },
   "outputs": [
    {
     "name": "stderr",
     "output_type": "stream",
     "text": [
      "100%|██████████| 3/3 [00:00<00:00, 1715.70it/s]\n"
     ]
    }
   ],
   "source": [
    "test_feature_set = []\n",
    "for i, row in tqdm(test.iterrows(), total=len(test)):\n",
    "    test_feature_set.append(row.vecs)\n",
    "test_feature_set = np.array(test_feature_set)"
   ]
  },
  {
   "cell_type": "code",
   "execution_count": 17,
   "id": "2b330bb2",
   "metadata": {
    "execution": {
     "iopub.execute_input": "2022-09-03T19:59:07.447275Z",
     "iopub.status.busy": "2022-09-03T19:59:07.446858Z",
     "iopub.status.idle": "2022-09-03T19:59:07.465777Z",
     "shell.execute_reply": "2022-09-03T19:59:07.464522Z"
    },
    "papermill": {
     "duration": 0.033548,
     "end_time": "2022-09-03T19:59:07.468841",
     "exception": false,
     "start_time": "2022-09-03T19:59:07.435293",
     "status": "completed"
    },
    "tags": []
   },
   "outputs": [],
   "source": [
    "cohesion_predictions = cohesion_model.predict(test_feature_set)\n",
    "syntax_predictions = syntax_model.predict(test_feature_set)\n",
    "vocabulary_predictions = vocabulary_model.predict(test_feature_set)\n",
    "phraseology_predictions = phraseology_model.predict(test_feature_set)\n",
    "grammar_predictions = grammar_model.predict(test_feature_set)\n",
    "conventions_predictions = conventions_model.predict(test_feature_set)"
   ]
  },
  {
   "cell_type": "code",
   "execution_count": 18,
   "id": "aa99ce9b",
   "metadata": {
    "execution": {
     "iopub.execute_input": "2022-09-03T19:59:07.492903Z",
     "iopub.status.busy": "2022-09-03T19:59:07.492520Z",
     "iopub.status.idle": "2022-09-03T19:59:07.500976Z",
     "shell.execute_reply": "2022-09-03T19:59:07.499827Z"
    },
    "papermill": {
     "duration": 0.022299,
     "end_time": "2022-09-03T19:59:07.503388",
     "exception": false,
     "start_time": "2022-09-03T19:59:07.481089",
     "status": "completed"
    },
    "tags": []
   },
   "outputs": [],
   "source": [
    "submission = sample.copy()\n",
    "submission.cohesion = cohesion_predictions\n",
    "submission.syntax = syntax_predictions\n",
    "submission.vocabulary = vocabulary_predictions\n",
    "submission.phraseology = phraseology_predictions\n",
    "submission.grammar = grammar_predictions\n",
    "submission.conventions = conventions_predictions"
   ]
  },
  {
   "cell_type": "code",
   "execution_count": 19,
   "id": "0a34a841",
   "metadata": {
    "execution": {
     "iopub.execute_input": "2022-09-03T19:59:07.527610Z",
     "iopub.status.busy": "2022-09-03T19:59:07.526513Z",
     "iopub.status.idle": "2022-09-03T19:59:07.535790Z",
     "shell.execute_reply": "2022-09-03T19:59:07.534717Z"
    },
    "papermill": {
     "duration": 0.024207,
     "end_time": "2022-09-03T19:59:07.538261",
     "exception": false,
     "start_time": "2022-09-03T19:59:07.514054",
     "status": "completed"
    },
    "tags": []
   },
   "outputs": [],
   "source": [
    "submission.to_csv(\"submission.csv\", index=False)"
   ]
  },
  {
   "cell_type": "code",
   "execution_count": null,
   "id": "e0522fc2",
   "metadata": {
    "papermill": {
     "duration": 0.010397,
     "end_time": "2022-09-03T19:59:07.559067",
     "exception": false,
     "start_time": "2022-09-03T19:59:07.548670",
     "status": "completed"
    },
    "tags": []
   },
   "outputs": [],
   "source": []
  }
 ],
 "metadata": {
  "kernelspec": {
   "display_name": "Python 3",
   "language": "python",
   "name": "python3"
  },
  "language_info": {
   "codemirror_mode": {
    "name": "ipython",
    "version": 3
   },
   "file_extension": ".py",
   "mimetype": "text/x-python",
   "name": "python",
   "nbconvert_exporter": "python",
   "pygments_lexer": "ipython3",
   "version": "3.7.12"
  },
  "papermill": {
   "default_parameters": {},
   "duration": 120.99757,
   "end_time": "2022-09-03T19:59:08.495084",
   "environment_variables": {},
   "exception": null,
   "input_path": "__notebook__.ipynb",
   "output_path": "__notebook__.ipynb",
   "parameters": {},
   "start_time": "2022-09-03T19:57:07.497514",
   "version": "2.3.4"
  }
 },
 "nbformat": 4,
 "nbformat_minor": 5
}
